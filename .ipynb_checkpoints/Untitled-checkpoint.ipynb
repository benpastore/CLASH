{
 "cells": [
  {
   "cell_type": "code",
   "execution_count": 5,
   "id": "0258785d-5119-400c-966d-481b3702162f",
   "metadata": {},
   "outputs": [
    {
     "data": {
      "text/plain": [
       "['id_0',\n",
       " 'id_1',\n",
       " 'id_2',\n",
       " 'id_3',\n",
       " 'id_4',\n",
       " 'id_5',\n",
       " 'id_6',\n",
       " 'id_7',\n",
       " 'id_8',\n",
       " 'id_9']"
      ]
     },
     "execution_count": 5,
     "metadata": {},
     "output_type": "execute_result"
    }
   ],
   "source": [
    "[ f'id_{i}' for i in range(0,10)]"
   ]
  },
  {
   "cell_type": "code",
   "execution_count": 11,
   "id": "9363297f-308a-4d0a-910e-c6045a52e082",
   "metadata": {},
   "outputs": [
    {
     "data": {
      "text/plain": [
       "24"
      ]
     },
     "execution_count": 11,
     "metadata": {},
     "output_type": "execute_result"
    }
   ],
   "source": [
    "round( 235489 / 10000)"
   ]
  },
  {
   "cell_type": "code",
   "execution_count": 12,
   "id": "b70a6832-d8a4-428e-9772-73186407c131",
   "metadata": {},
   "outputs": [
    {
     "name": "stdout",
     "output_type": "stream",
     "text": [
      "0\n",
      "1\n",
      "2\n",
      "3\n",
      "4\n",
      "5\n",
      "6\n",
      "7\n",
      "8\n",
      "9\n",
      "10\n",
      "11\n",
      "12\n",
      "13\n",
      "14\n",
      "15\n",
      "16\n",
      "17\n",
      "18\n",
      "19\n",
      "20\n",
      "21\n",
      "22\n",
      "23\n"
     ]
    }
   ],
   "source": [
    "for i in range(24) : \n",
    "    print(i)"
   ]
  },
  {
   "cell_type": "code",
   "execution_count": null,
   "id": "a4746d16-b878-437b-8365-575cd0763116",
   "metadata": {},
   "outputs": [],
   "source": []
  }
 ],
 "metadata": {
  "kernelspec": {
   "display_name": "Python 3.9 (Conda 2022.05) [python/3.9-2022.05]",
   "language": "python",
   "name": "python39_202205"
  },
  "language_info": {
   "codemirror_mode": {
    "name": "ipython",
    "version": 3
   },
   "file_extension": ".py",
   "mimetype": "text/x-python",
   "name": "python",
   "nbconvert_exporter": "python",
   "pygments_lexer": "ipython3",
   "version": "3.9.12"
  }
 },
 "nbformat": 4,
 "nbformat_minor": 5
}
